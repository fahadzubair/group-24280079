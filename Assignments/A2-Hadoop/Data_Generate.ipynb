{
  "nbformat": 4,
  "nbformat_minor": 0,
  "metadata": {
    "colab": {
      "provenance": []
    },
    "kernelspec": {
      "name": "python3",
      "display_name": "Python 3"
    },
    "language_info": {
      "name": "python"
    }
  },
  "cells": [
    {
      "cell_type": "code",
      "execution_count": 1,
      "metadata": {
        "colab": {
          "base_uri": "https://localhost:8080/"
        },
        "id": "D9EqhqCD2FJ6",
        "outputId": "0c74f2b7-8e1c-42c2-f9f9-51b4da85a4a6"
      },
      "outputs": [
        {
          "output_type": "stream",
          "name": "stdout",
          "text": [
            "Generated logs: raw_data/2023-09-01/user_logs.csv\n",
            "Generated logs: raw_data/2023-09-02/user_logs.csv\n",
            "Generated logs: raw_data/2023-09-03/user_logs.csv\n",
            "Generated logs: raw_data/2023-09-04/user_logs.csv\n",
            "Generated logs: raw_data/2023-09-05/user_logs.csv\n",
            "Generated logs: raw_data/2023-09-06/user_logs.csv\n",
            "Generated logs: raw_data/2023-09-07/user_logs.csv\n",
            "Generated content metadata: raw_data/content_metadata.csv\n"
          ]
        }
      ],
      "source": [
        "import os\n",
        "import csv\n",
        "import random\n",
        "from datetime import datetime, timedelta\n",
        "\n",
        "# Configuration\n",
        "START_DATE = datetime(2023, 9, 1)  # Starting date for logs\n",
        "DAYS = 7  # Number of days of logs\n",
        "LOGS_PER_DAY = 30  # Number of log entries per day\n",
        "RAW_DATA_DIR = \"raw_data\"\n",
        "\n",
        "# Possible values for random selection\n",
        "ACTIONS = [\"play\", \"pause\", \"skip\", \"forward\"]\n",
        "DEVICES = [\"mobile\", \"desktop\", \"tablet\"]\n",
        "REGIONS = [\"US\", \"EU\", \"APAC\"]\n",
        "\n",
        "# Content Metadata\n",
        "CONTENT_METADATA = [\n",
        "    {\"content_id\": 1000, \"title\": \"Summer Vibes\", \"category\": \"Pop\", \"length\": 180, \"artist\": \"DJ Alpha\"},\n",
        "    {\"content_id\": 1001, \"title\": \"Rock Anthem\", \"category\": \"Rock\", \"length\": 240, \"artist\": \"The Beats\"},\n",
        "    {\"content_id\": 1002, \"title\": \"News Update\", \"category\": \"News\", \"length\": 300, \"artist\": \"Daily News\"},\n",
        "    {\"content_id\": 1003, \"title\": \"Jazz Classics\", \"category\": \"Jazz\", \"length\": 200, \"artist\": \"Smooth Sounds\"},\n",
        "    {\"content_id\": 1004, \"title\": \"Podcast Ep.1\", \"category\": \"Podcast\", \"length\": 600, \"artist\": \"Tech Talk\"},\n",
        "]\n",
        "\n",
        "def generate_user_logs(date):\n",
        "    \"\"\"Generate user activity logs for a specific date.\"\"\"\n",
        "    log_entries = []\n",
        "    for _ in range(LOGS_PER_DAY):\n",
        "        user_id = random.randint(100, 200)\n",
        "        content_id = random.choice([c[\"content_id\"] for c in CONTENT_METADATA])\n",
        "        action = random.choice(ACTIONS)\n",
        "        timestamp = date + timedelta(seconds=random.randint(0, 86400))\n",
        "        device = random.choice(DEVICES)\n",
        "        region = random.choice(REGIONS)\n",
        "        session_id = f\"S{random.randint(1000, 9999)}\"\n",
        "\n",
        "        log_entries.append([user_id, content_id, action, timestamp.strftime(\"%Y-%m-%d %H:%M:%S\"), device, region, session_id])\n",
        "\n",
        "    return log_entries\n",
        "\n",
        "def save_csv(file_path, data, headers):\n",
        "    \"\"\"Save data to a CSV file.\"\"\"\n",
        "    with open(file_path, \"w\", newline=\"\") as f:\n",
        "        writer = csv.writer(f)\n",
        "        writer.writerow(headers)\n",
        "        writer.writerows(data)\n",
        "\n",
        "def main():\n",
        "    os.makedirs(RAW_DATA_DIR, exist_ok=True)\n",
        "\n",
        "    # Generate user activity logs for each day\n",
        "    for i in range(DAYS):\n",
        "        date = START_DATE + timedelta(days=i)\n",
        "        folder_path = os.path.join(RAW_DATA_DIR, date.strftime(\"%Y-%m-%d\"))\n",
        "        os.makedirs(folder_path, exist_ok=True)\n",
        "\n",
        "        log_file = os.path.join(folder_path, \"user_logs.csv\")\n",
        "        logs = generate_user_logs(date)\n",
        "        save_csv(log_file, logs, [\"user_id\", \"content_id\", \"action\", \"timestamp\", \"device\", \"region\", \"session_id\"])\n",
        "        print(f\"Generated logs: {log_file}\")\n",
        "\n",
        "    # Save content metadata (static)\n",
        "    metadata_file = os.path.join(RAW_DATA_DIR, \"content_metadata.csv\")\n",
        "    save_csv(metadata_file, [list(d.values()) for d in CONTENT_METADATA], [\"content_id\", \"title\", \"category\", \"length\", \"artist\"])\n",
        "    print(f\"Generated content metadata: {metadata_file}\")\n",
        "\n",
        "if __name__ == \"__main__\":\n",
        "    main()\n"
      ]
    },
    {
      "cell_type": "code",
      "source": [
        "from google.colab import drive\n",
        "drive.mount('/content/drive')"
      ],
      "metadata": {
        "colab": {
          "base_uri": "https://localhost:8080/"
        },
        "id": "-Q16_3BI2OFH",
        "outputId": "f59911cc-d205-44ee-b555-8097b1c7d38d"
      },
      "execution_count": 2,
      "outputs": [
        {
          "output_type": "stream",
          "name": "stdout",
          "text": [
            "Mounted at /content/drive\n"
          ]
        }
      ]
    },
    {
      "cell_type": "code",
      "source": [
        "import os\n",
        "import csv\n",
        "import random\n",
        "from datetime import datetime, timedelta\n",
        "\n",
        "# Path to Google Drive (Change this if needed)\n",
        "DRIVE_PATH = \"/content/drive/MyDrive/Data_Storage_Assignment\"\n",
        "os.makedirs(DRIVE_PATH, exist_ok=True)\n",
        "\n",
        "# Configuration\n",
        "START_DATE = datetime(2023, 9, 1)  # Starting date for logs\n",
        "DAYS = 7  # Number of days of logs\n",
        "LOGS_PER_DAY = 30  # Number of log entries per day\n",
        "\n",
        "# Possible values for random selection\n",
        "ACTIONS = [\"play\", \"pause\", \"skip\", \"forward\"]\n",
        "DEVICES = [\"mobile\", \"desktop\", \"tablet\"]\n",
        "REGIONS = [\"US\", \"EU\", \"APAC\"]\n",
        "\n",
        "# Content Metadata\n",
        "CONTENT_METADATA = [\n",
        "    {\"content_id\": 1000, \"title\": \"Summer Vibes\", \"category\": \"Pop\", \"length\": 180, \"artist\": \"DJ Alpha\"},\n",
        "    {\"content_id\": 1001, \"title\": \"Rock Anthem\", \"category\": \"Rock\", \"length\": 240, \"artist\": \"The Beats\"},\n",
        "    {\"content_id\": 1002, \"title\": \"News Update\", \"category\": \"News\", \"length\": 300, \"artist\": \"Daily News\"},\n",
        "    {\"content_id\": 1003, \"title\": \"Jazz Classics\", \"category\": \"Jazz\", \"length\": 200, \"artist\": \"Smooth Sounds\"},\n",
        "    {\"content_id\": 1004, \"title\": \"Podcast Ep.1\", \"category\": \"Podcast\", \"length\": 600, \"artist\": \"Tech Talk\"},\n",
        "]\n",
        "\n",
        "def generate_user_logs(date):\n",
        "    \"\"\"Generate user activity logs for a specific date.\"\"\"\n",
        "    log_entries = []\n",
        "    for _ in range(LOGS_PER_DAY):\n",
        "        user_id = random.randint(100, 200)\n",
        "        content_id = random.choice([c[\"content_id\"] for c in CONTENT_METADATA])\n",
        "        action = random.choice(ACTIONS)\n",
        "        timestamp = date + timedelta(seconds=random.randint(0, 86400))\n",
        "        device = random.choice(DEVICES)\n",
        "        region = random.choice(REGIONS)\n",
        "        session_id = f\"S{random.randint(1000, 9999)}\"\n",
        "\n",
        "        log_entries.append([user_id, content_id, action, timestamp.strftime(\"%Y-%m-%d %H:%M:%S\"), device, region, session_id])\n",
        "\n",
        "    return log_entries\n",
        "\n",
        "def save_csv(file_path, data, headers):\n",
        "    \"\"\"Save data to a CSV file.\"\"\"\n",
        "    with open(file_path, \"w\", newline=\"\") as f:\n",
        "        writer = csv.writer(f)\n",
        "        writer.writerow(headers)\n",
        "        writer.writerows(data)\n",
        "\n",
        "def main():\n",
        "    # Generate user activity logs for each day\n",
        "    for i in range(DAYS):\n",
        "        date = START_DATE + timedelta(days=i)\n",
        "        folder_path = os.path.join(DRIVE_PATH, \"raw_data\", date.strftime(\"%Y-%m-%d\"))\n",
        "        os.makedirs(folder_path, exist_ok=True)\n",
        "\n",
        "        log_file = os.path.join(folder_path, \"user_logs.csv\")\n",
        "        logs = generate_user_logs(date)\n",
        "        save_csv(log_file, logs, [\"user_id\", \"content_id\", \"action\", \"timestamp\", \"device\", \"region\", \"session_id\"])\n",
        "        print(f\"Generated logs: {log_file}\")\n",
        "\n",
        "    # Save content metadata (static)\n",
        "    metadata_file = os.path.join(DRIVE_PATH, \"content_metadata.csv\")\n",
        "    save_csv(metadata_file, [list(d.values()) for d in CONTENT_METADATA], [\"content_id\", \"title\", \"category\", \"length\", \"artist\"])\n",
        "    print(f\"Generated content metadata: {metadata_file}\")\n",
        "\n",
        "if __name__ == \"__main__\":\n",
        "    main()\n"
      ],
      "metadata": {
        "colab": {
          "base_uri": "https://localhost:8080/"
        },
        "id": "_1D04lNE2OyQ",
        "outputId": "1cf619c3-3208-455e-ead3-15f34f25b078"
      },
      "execution_count": 3,
      "outputs": [
        {
          "output_type": "stream",
          "name": "stdout",
          "text": [
            "Generated logs: /content/drive/MyDrive/Data_Storage_Assignment/raw_data/2023-09-01/user_logs.csv\n",
            "Generated logs: /content/drive/MyDrive/Data_Storage_Assignment/raw_data/2023-09-02/user_logs.csv\n",
            "Generated logs: /content/drive/MyDrive/Data_Storage_Assignment/raw_data/2023-09-03/user_logs.csv\n",
            "Generated logs: /content/drive/MyDrive/Data_Storage_Assignment/raw_data/2023-09-04/user_logs.csv\n",
            "Generated logs: /content/drive/MyDrive/Data_Storage_Assignment/raw_data/2023-09-05/user_logs.csv\n",
            "Generated logs: /content/drive/MyDrive/Data_Storage_Assignment/raw_data/2023-09-06/user_logs.csv\n",
            "Generated logs: /content/drive/MyDrive/Data_Storage_Assignment/raw_data/2023-09-07/user_logs.csv\n",
            "Generated content metadata: /content/drive/MyDrive/Data_Storage_Assignment/content_metadata.csv\n"
          ]
        }
      ]
    },
    {
      "cell_type": "code",
      "source": [],
      "metadata": {
        "id": "nQMplBfB3AKO"
      },
      "execution_count": null,
      "outputs": []
    }
  ]
}